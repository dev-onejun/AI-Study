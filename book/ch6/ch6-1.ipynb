{
 "cells": [
  {
   "cell_type": "code",
   "execution_count": 5,
   "metadata": {},
   "outputs": [
    {
     "name": "stdout",
     "output_type": "stream",
     "text": [
      "[('아버지', 'Noun'), ('가방', 'Noun'), ('에', 'Josa'), ('들어가다', 'Verb'), ('.', 'Punctuation')]\n",
      "[('나', 'Noun'), ('는', 'Josa'), ('호떡', 'Noun'), ('을', 'Josa'), ('먹다', 'Verb'), ('커피', 'Noun'), ('를', 'Josa'), ('마시다', 'Verb'), ('.', 'Punctuation')]\n"
     ]
    }
   ],
   "source": [
    "from konlpy.tag import Okt\n",
    "\n",
    "okt = Okt()\n",
    "\n",
    "malist = okt.pos(\"아버지가방에들어가신다.\", norm=True, stem=True)\n",
    "print(malist)\n",
    "\n",
    "malist = okt.pos('나는호떡을먹고커피를마셨다.', norm=True, stem=True)\n",
    "print(malist)"
   ]
  },
  {
   "cell_type": "code",
   "execution_count": 4,
   "metadata": {},
   "outputs": [
    {
     "name": "stdout",
     "output_type": "stream",
     "text": [
      "것(644) 그(554) 말(485) 안(304) 소리(196) 길(194) 용이(193) 눈(188) 놈(180) 내(174) 사람(167) 봉(165) 치수(160) 평산(160) 얼굴(156) 거(152) 네(151) 일(149) 이(148) 못(147) 댁(141) 생각(141) 때(139) 강청댁(137) 수(134) 서방(131) 집(131) 나(122) 더(120) 서희(119) 머(116) 어디(112) 마을(111) 최(110) 년(109) 김(99) 칠성(97) 구천이(96) 니(96) 뒤(91) 제(90) 날(90) 아이(88) 하나(84) 녀(83) 두(83) 참판(82) 월(82) 손(81) 임(79) \n"
     ]
    }
   ],
   "source": [
    "import codecs\n",
    "from bs4 import BeautifulSoup\n",
    "from konlpy.tag import Okt\n",
    "\n",
    "# utf-16 인코딩으로 파일을 열고 글자를 출력하기 --- (※1)\n",
    "fp = codecs.open(\"BEXX0003.txt\", \"r\", encoding=\"utf-16\")\n",
    "soup = BeautifulSoup(fp, \"html.parser\")\n",
    "body = soup.select_one(\"body > text\")\n",
    "text = body.getText()\n",
    "\n",
    "# 텍스트를 한 줄씩 처리하기 --- (※2)\n",
    "okt = Okt()\n",
    "word_dic = {}\n",
    "lines = text.split(\"\\n\")\n",
    "for line in lines:\n",
    "    malist = okt.pos(line)\n",
    "    for word in malist:\n",
    "        if word[1] == \"Noun\": #  명사 확인하기 --- (※3)\n",
    "            if not (word[0] in word_dic):\n",
    "                word_dic[word[0]] = 0\n",
    "            word_dic[word[0]] += 1 # 카운트하기\n",
    "\n",
    "# 많이 사용된 명사 출력하기 --- (※4)\n",
    "\"\"\" sorted() 호출 시 파라미터 key에\n",
    "x[0]을 넘겨주면 앞의 것으로 정렬(default),\n",
    "x[1]을 넘겨주면 뒤의 것으로 정렬.\n",
    "\"\"\"\n",
    "keys = sorted(word_dic.items(), key=lambda x:x[1], reverse=True)\n",
    "for word, count in keys[:50]:\n",
    "    print(\"{0}({1}) \".format(word, count), end=\"\")\n",
    "print()"
   ]
  }
 ],
 "metadata": {
  "kernelspec": {
   "display_name": "Python 3",
   "language": "python",
   "name": "python3"
  },
  "language_info": {
   "codemirror_mode": {
    "name": "ipython",
    "version": 3
   },
   "file_extension": ".py",
   "mimetype": "text/x-python",
   "name": "python",
   "nbconvert_exporter": "python",
   "pygments_lexer": "ipython3",
   "version": "3.8.10"
  }
 },
 "nbformat": 4,
 "nbformat_minor": 2
}
