{
 "cells": [
  {
   "cell_type": "code",
   "execution_count": 1,
   "metadata": {},
   "outputs": [
    {
     "name": "stdout",
     "output_type": "stream",
     "text": [
      "download: https://github.com/golbin/TensorFlow-MNIST/raw/master/mnist/data//train-images-idx3-ubyte.gz\n",
      "download: https://github.com/golbin/TensorFlow-MNIST/raw/master/mnist/data//train-labels-idx1-ubyte.gz\n",
      "download: https://github.com/golbin/TensorFlow-MNIST/raw/master/mnist/data//t10k-images-idx3-ubyte.gz\n",
      "download: https://github.com/golbin/TensorFlow-MNIST/raw/master/mnist/data//t10k-labels-idx1-ubyte.gz\n",
      "gzip: train-images-idx3-ubyte.gz\n",
      "gzip: train-labels-idx1-ubyte.gz\n",
      "gzip: t10k-images-idx3-ubyte.gz\n",
      "gzip: t10k-labels-idx1-ubyte.gz\n",
      "ok\n"
     ]
    }
   ],
   "source": [
    "import urllib.request as req\n",
    "import gzip, os, os.path\n",
    "savepath = \"./mnist\"\n",
    "baseurl = \"https://github.com/golbin/TensorFlow-MNIST/raw/master/mnist/data/\"\n",
    "files = [\n",
    "    \"train-images-idx3-ubyte.gz\",\n",
    "    \"train-labels-idx1-ubyte.gz\",\n",
    "    \"t10k-images-idx3-ubyte.gz\",\n",
    "    \"t10k-labels-idx1-ubyte.gz\"]\n",
    "# 다운로드\n",
    "if not os.path.exists(savepath): os.mkdir(savepath)\n",
    "for f in files:\n",
    "    url = baseurl + \"/\" + f\n",
    "    loc = savepath + \"/\" + f\n",
    "    print(\"download:\", url)\n",
    "    if not os.path.exists(loc):\n",
    "        req.urlretrieve(url, loc)\n",
    "# GZip 압축 해제\n",
    "for f in files:\n",
    "    gz_file = savepath + \"/\" + f\n",
    "    raw_file = savepath + \"/\" + f.replace(\".gz\", \"\")\n",
    "    print(\"gzip:\", f)\n",
    "    with gzip.open(gz_file, \"rb\") as fp:\n",
    "        body = fp.read()\n",
    "        with open(raw_file, \"wb\") as w:\n",
    "            w.write(body)\n",
    "print(\"ok\")"
   ]
  },
  {
   "cell_type": "code",
   "execution_count": 1,
   "metadata": {},
   "outputs": [
    {
     "name": "stdout",
     "output_type": "stream",
     "text": [
      "ok\n"
     ]
    }
   ],
   "source": [
    "import struct\n",
    "\n",
    "def to_csv(name, maxdata):\n",
    "    lbl_f = open('./mnist/' + name + '-labels-idx1-ubyte', 'rb')\n",
    "    img_f = open('./mnist/' + name + '-images-idx3-ubyte', 'rb')\n",
    "    csv_f = open('./mnist/' + name + '.csv', 'w', encoding='utf-8')\n",
    "\n",
    "    # 헤더 정보 읽기\n",
    "    mag, lbl_count = struct.unpack('>II', lbl_f.read(8))\n",
    "    mag, img_count = struct.unpack('>II', img_f.read(8))\n",
    "    rows, cols = struct.unpack('>II', img_f.read(8))\n",
    "    pixels = rows * cols\n",
    "\n",
    "    # 이미지 데이터를 읽고 csv로 저장하기\n",
    "    res = []\n",
    "    for idx in range(lbl_count):\n",
    "        if idx > maxdata: break\n",
    "        label = struct.unpack('B', lbl_f.read(1))[0]\n",
    "        bdata = img_f.read(pixels)\n",
    "        sdata = list(map(lambda n: str(n), bdata))\n",
    "        csv_f.write(str(label) + ',')\n",
    "        csv_f.write(','.join(sdata)+'\\r\\n')\n",
    "\n",
    "        # 테스트\n",
    "        if idx < 10:\n",
    "            s = 'P2 28 28 255\\n'\n",
    "            s += ' '.join(sdata)\n",
    "            iname = './mnist/{0}-{1}-{2}.pgm'.format(name, idx, label)\n",
    "            with open(iname, 'w', encoding='utf-8') as f:\n",
    "                f.write(s)\n",
    "\n",
    "    csv_f.close()\n",
    "    lbl_f.close()\n",
    "    img_f.close()\n",
    "\n",
    "to_csv('train', 1000)\n",
    "to_csv('t10k', 500)\n",
    "\n",
    "print('ok')"
   ]
  },
  {
   "cell_type": "code",
   "execution_count": 2,
   "metadata": {},
   "outputs": [
    {
     "name": "stdout",
     "output_type": "stream",
     "text": [
      "정답률 = 0.9720558882235529\n",
      "리포트 =\n",
      "              precision    recall  f1-score   support\n",
      "\n",
      "           0       0.95      1.00      0.98        42\n",
      "           1       1.00      1.00      1.00        67\n",
      "           2       0.96      0.96      0.96        55\n",
      "           3       0.98      0.98      0.98        46\n",
      "           4       0.98      0.96      0.97        55\n",
      "           5       1.00      0.96      0.98        50\n",
      "           6       0.98      0.95      0.96        43\n",
      "           7       0.96      0.98      0.97        49\n",
      "           8       0.93      0.97      0.95        40\n",
      "           9       0.96      0.94      0.95        54\n",
      "\n",
      "    accuracy                           0.97       501\n",
      "   macro avg       0.97      0.97      0.97       501\n",
      "weighted avg       0.97      0.97      0.97       501\n",
      "\n"
     ]
    }
   ],
   "source": [
    "from sklearn import model_selection, svm, metrics\n",
    "\n",
    "# CSV 파일을 읽어 들이고 가공하기 --- (※1)\n",
    "def load_csv(fname):\n",
    "    labels = []\n",
    "    images = []\n",
    "    with open(fname, \"r\") as f:\n",
    "        for line in f:\n",
    "            cols = line.split(\",\")\n",
    "            if len(cols) < 2: continue\n",
    "            labels.append(int(cols.pop(0)))\n",
    "            vals = list(map(lambda n: int(n) / 256, cols))\n",
    "            images.append(vals)\n",
    "    return {\"labels\":labels, \"images\":images}\n",
    "data = load_csv(\"./mnist/train.csv\")\n",
    "test = load_csv(\"./mnist/t10k.csv\")\n",
    "\n",
    "# 학습하기 --- (※2)\n",
    "clf = svm.SVC()\n",
    "clf.fit(data[\"images\"], data[\"labels\"])\n",
    "\n",
    "# 예측하기 --- (※3)\n",
    "predict = clf.predict(test[\"images\"])\n",
    "\n",
    "# 결과 확인하기 --- (※4)\n",
    "ac_score = metrics.accuracy_score(test[\"labels\"], predict)\n",
    "cl_report = metrics.classification_report(test[\"labels\"], predict)\n",
    "print(\"정답률 =\", ac_score)\n",
    "print(\"리포트 =\")\n",
    "print(cl_report)"
   ]
  },
  {
   "cell_type": "code",
   "execution_count": null,
   "metadata": {},
   "outputs": [],
   "source": []
  }
 ],
 "metadata": {
  "kernelspec": {
   "display_name": "Python 3",
   "language": "python",
   "name": "python3"
  },
  "language_info": {
   "codemirror_mode": {
    "name": "ipython",
    "version": 3
   },
   "file_extension": ".py",
   "mimetype": "text/x-python",
   "name": "python",
   "nbconvert_exporter": "python",
   "pygments_lexer": "ipython3",
   "version": "3.8.10"
  }
 },
 "nbformat": 4,
 "nbformat_minor": 2
}
