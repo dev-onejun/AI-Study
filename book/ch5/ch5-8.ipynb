{
 "cells": [
  {
   "cell_type": "code",
   "execution_count": 1,
   "metadata": {},
   "outputs": [
    {
     "name": "stdout",
     "output_type": "stream",
     "text": [
      "    0   1   2\n",
      "0  10  20  30\n",
      "1  40  50  60\n",
      "2  70  80  90\n"
     ]
    }
   ],
   "source": [
    "\"\"\" pd-test-df.py \"\"\"\n",
    "import pandas as pd\n",
    "\n",
    "a = pd.DataFrame([\n",
    "    [10,20,30],\n",
    "    [40,50,60],\n",
    "    [70,80,90]\n",
    "])\n",
    "\n",
    "print(a)"
   ]
  },
  {
   "cell_type": "code",
   "execution_count": 2,
   "metadata": {},
   "outputs": [
    {
     "name": "stdout",
     "output_type": "stream",
     "text": [
      "0    1.0\n",
      "1    3.0\n",
      "2    5.0\n",
      "3    7.0\n",
      "4    9.0\n",
      "dtype: float64\n"
     ]
    }
   ],
   "source": [
    "\"\"\" pd-test-s.py \"\"\"\n",
    "import pandas as pd, numpy as np\n",
    "\n",
    "s = pd.Series([1.0, 3.0, 5.0, 7.0, 9.0])\n",
    "\n",
    "print(s)"
   ]
  },
  {
   "cell_type": "code",
   "execution_count": 3,
   "metadata": {},
   "outputs": [
    {
     "name": "stdout",
     "output_type": "stream",
     "text": [
      "몸무게 목록\n",
      "0    80.0\n",
      "1    70.4\n",
      "2    65.5\n",
      "3    45.9\n",
      "4    51.2\n",
      "Name: weight, dtype: float64\n",
      "몸무게와 키 목록\n",
      "   weight  height\n",
      "0    80.0     170\n",
      "1    70.4     180\n",
      "2    65.5     155\n",
      "3    45.9     143\n",
      "4    51.2     154\n"
     ]
    }
   ],
   "source": [
    "\"\"\" pd-test-key.py \"\"\"\n",
    "import pandas as pd\n",
    "\n",
    "# 키, 몸무게, 유형 데이터프레임 생성하기\n",
    "tbl = pd.DataFrame({\n",
    "    \"weight\": [ 80.0, 70.4, 65.5, 45.9, 51.2 ],\n",
    "    \"height\": [ 170,  180,  155,  143,  154  ],\n",
    "    \"type\":   [ \"f\", \"n\", \"n\", \"t\", \"t\"]\n",
    "})\n",
    "\n",
    "# 몸무게 목록 추출하기\n",
    "print(\"몸무게 목록\")\n",
    "print(tbl[\"weight\"])\n",
    "\n",
    "# 몸무게와 키 목록 추출하기\n",
    "print(\"몸무게와 키 목록\")\n",
    "print(tbl[[\"weight\",\"height\"]])"
   ]
  },
  {
   "cell_type": "code",
   "execution_count": 4,
   "metadata": {},
   "outputs": [
    {
     "name": "stdout",
     "output_type": "stream",
     "text": [
      "tbl[2:4]\n",
      "    weight  height type\n",
      "2    65.5     155    n\n",
      "3    45.9     143    t\n",
      "tbl[3:]\n",
      "    weight  height type\n",
      "3    45.9     143    t\n",
      "4    51.2     154    t\n",
      "5    72.5     160    f\n"
     ]
    }
   ],
   "source": [
    "\"\"\" pd-test-slice.py \"\"\"\n",
    "import pandas as pd\n",
    "\n",
    "# 키, 몸무게, 유형 데이터프레임 생성하기\n",
    "tbl = pd.DataFrame({\n",
    "\"weight\": [ 80.0, 70.4, 65.5, 45.9, 51.2, 72.5 ],\n",
    "\"height\": [ 170, 180, 155, 143, 154, 160 ],\n",
    "\"type\": [ \"f\", \"n\", \"n\", \"t\", \"t\", \"f\" ]\n",
    "})\n",
    "\n",
    "# (0부터 세었을 때) 2~3번째 데이터 출력\n",
    "print(\"tbl[2:4]\\n\", tbl[2:4])\n",
    "\n",
    "# (0부터 세었을 때) 3번째 이후의 데이터 출력하기\n",
    "print(\"tbl[3:]\\n\",tbl[3:])"
   ]
  },
  {
   "cell_type": "code",
   "execution_count": 5,
   "metadata": {},
   "outputs": [
    {
     "name": "stdout",
     "output_type": "stream",
     "text": [
      "--- height가 160 이상인 것\n",
      "   weight  height gender\n",
      "0    80.0     170      f\n",
      "1    70.4     180      m\n",
      "5    72.5     160      m\n",
      "--- gender가 m 인 것\n",
      "   weight  height gender\n",
      "1    70.4     180      m\n",
      "2    65.5     155      m\n",
      "5    72.5     160      m\n"
     ]
    }
   ],
   "source": [
    "\"\"\" pd-test-filter.py \"\"\"\n",
    "import pandas as pd\n",
    "\n",
    "# 키, 몸무게, 유형 데이터프레임 생성하기\n",
    "tbl = pd.DataFrame({\n",
    "    \"weight\": [ 80.0, 70.4, 65.5, 45.9, 51.2, 72.5 ],\n",
    "    \"height\": [ 170,  180,  155,  143,  154,  160  ],\n",
    "    \"gender\": [ \"f\",  \"m\",  \"m\",  \"f\",  \"f\",  \"m\"  ]\n",
    "})\n",
    "\n",
    "print(\"--- height가 160 이상인 것\")\n",
    "print(tbl[tbl.height >= 160])\n",
    "\n",
    "print(\"--- gender가 m 인 것\")\n",
    "print(tbl[tbl.gender == \"m\"])"
   ]
  },
  {
   "cell_type": "code",
   "execution_count": 6,
   "metadata": {},
   "outputs": [
    {
     "name": "stdout",
     "output_type": "stream",
     "text": [
      "--- 키로 정렬\n",
      "   weight  height gender\n",
      "3    45.9     143      f\n",
      "4    51.2     154      f\n",
      "2    65.5     155      m\n",
      "5    72.5     160      m\n",
      "0    80.0     170      f\n",
      "1    70.4     180      m\n",
      "--- 몸무게로 정렬\n",
      "   weight  height gender\n",
      "0    80.0     170      f\n",
      "5    72.5     160      m\n",
      "1    70.4     180      m\n",
      "2    65.5     155      m\n",
      "4    51.2     154      f\n",
      "3    45.9     143      f\n"
     ]
    }
   ],
   "source": [
    "\"\"\" pd-test-sort.py \"\"\"\n",
    "import pandas as pd\n",
    "\n",
    "# 키, 몸무게, 유형 데이터프레임 생성하기\n",
    "tbl = pd.DataFrame({\n",
    "    \"weight\": [ 80.0, 70.4, 65.5, 45.9, 51.2, 72.5 ],\n",
    "    \"height\": [ 170,  180,  155,  143,  154,  160  ],\n",
    "    \"gender\": [ \"f\",  \"m\",  \"m\",  \"f\",  \"f\",  \"m\"  ]\n",
    "})\n",
    "\n",
    "print(\"--- 키로 정렬\")\n",
    "print(tbl.sort_values(by=\"height\"))\n",
    "\n",
    "print(\"--- 몸무게로 정렬\")\n",
    "print(tbl.sort_values(by=\"weight\", ascending=False))"
   ]
  },
  {
   "cell_type": "code",
   "execution_count": 7,
   "metadata": {},
   "outputs": [
    {
     "name": "stdout",
     "output_type": "stream",
     "text": [
      "   0  1  2\n",
      "0  A  B  C\n",
      "1  D  E  F\n",
      "2  G  H  I\n",
      "---\n",
      "   0  1  2\n",
      "0  A  D  G\n",
      "1  B  E  H\n",
      "2  C  F  I\n"
     ]
    }
   ],
   "source": [
    "\"\"\" pd-test-rot.py \"\"\"\n",
    "import pandas as pd\n",
    "\n",
    "tbl = pd.DataFrame([\n",
    "    [\"A\", \"B\", \"C\"],\n",
    "    [\"D\", \"E\", \"F\"],\n",
    "    [\"G\", \"H\", \"I\"]\n",
    "])\n",
    "\n",
    "print(tbl)\n",
    "print(\"---\")\n",
    "print(tbl.T)"
   ]
  },
  {
   "cell_type": "code",
   "execution_count": 8,
   "metadata": {},
   "outputs": [
    {
     "name": "stdout",
     "output_type": "stream",
     "text": [
      "[0. 0. 0. 0. 0. 0. 0. 0. 0. 0.]\n",
      "[0 1 2 3 4 5 6 7 8 9]\n",
      "[ 0  3  6  9 12 15 18 21 24 27]\n",
      "13.5\n"
     ]
    }
   ],
   "source": [
    "\"\"\" pd-test-calc.py \"\"\"\n",
    "import numpy as np\n",
    "\n",
    "# 10개의 float32 자료형 데이터 생성\n",
    "v = np.zeros(10, dtype=np.float32)\n",
    "print(v)\n",
    "\n",
    "# 연속된 10개의 uint64 자료형 데이터 생성\n",
    "v = np.arange(10, dtype=np.uint64)\n",
    "print(v)\n",
    "\n",
    "# v 값을 3배하기\n",
    "v *= 3\n",
    "print(v)\n",
    "\n",
    "# v의 평균 구하기\n",
    "print(v.mean())"
   ]
  },
  {
   "cell_type": "code",
   "execution_count": 9,
   "metadata": {},
   "outputs": [
    {
     "name": "stdout",
     "output_type": "stream",
     "text": [
      "   weight  height gender\n",
      "0   0.800   0.850      f\n",
      "1   0.704   0.900      m\n",
      "2   0.655   0.775      m\n",
      "3   0.459   0.715      f\n",
      "4   0.512   0.770      f\n",
      "5   0.725   0.800      m\n"
     ]
    }
   ],
   "source": [
    "\"\"\" pd-test-norm.py \"\"\"\n",
    "import pandas as pd\n",
    "\n",
    "# 키, 체중, 유형 데이터프레임 생성하기\n",
    "tbl = pd.DataFrame({\n",
    "    \"weight\": [ 80.0, 70.4, 65.5, 45.9, 51.2, 72.5 ],\n",
    "    \"height\": [ 170,  180,  155,  143,  154,  160  ],\n",
    "    \"gender\": [ \"f\",  \"m\",  \"m\",  \"f\",  \"f\",  \"m\"  ]\n",
    "})\n",
    "\n",
    "# 키와 몸무게 정규화하기\n",
    "tbl[\"weight\"] /= 100\n",
    "tbl[\"height\"] /= 200\n",
    "print(tbl)"
   ]
  },
  {
   "cell_type": "code",
   "execution_count": 10,
   "metadata": {},
   "outputs": [
    {
     "name": "stdout",
     "output_type": "stream",
     "text": [
      "weight = 45.9 - 80.0\n",
      "height = 143 - 180\n",
      "     weight    height gender\n",
      "0  1.000000  0.729730      f\n",
      "1  0.718475  1.000000      m\n",
      "2  0.574780  0.324324      m\n",
      "3  0.000000  0.000000      f\n",
      "4  0.155425  0.297297      f\n",
      "5  0.780059  0.459459      m\n"
     ]
    }
   ],
   "source": [
    "\"\"\" pd-test-norm2.py \"\"\"\n",
    "import pandas as pd\n",
    "\n",
    "# 키, 체중, 유형 데이터프레임 생성하기\n",
    "tbl = pd.DataFrame({\n",
    "    \"weight\": [ 80.0, 70.4, 65.5, 45.9, 51.2, 72.5 ],\n",
    "    \"height\": [ 170,  180,  155,  143,  154,  160  ],\n",
    "    \"gender\": [ \"f\",  \"m\",  \"m\",  \"f\",  \"f\",  \"m\"  ]\n",
    "})\n",
    "\n",
    "# 키와 몸무게 정규화하기\n",
    "# 최댓값과 최솟값 구하기\n",
    "def norm(tbl, key):\n",
    "    c = tbl[key]\n",
    "    v_max = c.max()\n",
    "    v_min = c.min()\n",
    "    print(key, \"=\", v_min, \"-\", v_max)\n",
    "    tbl[key] = (c - v_min) / (v_max - v_min)\n",
    "\n",
    "norm(tbl, \"weight\")\n",
    "norm(tbl, \"height\")\n",
    "print(tbl)"
   ]
  },
  {
   "cell_type": "code",
   "execution_count": 11,
   "metadata": {},
   "outputs": [
    {
     "name": "stdout",
     "output_type": "stream",
     "text": [
      "[[1.0 0.7297297297297297 'f']\n",
      " [0.7184750733137831 1.0 'm']\n",
      " [0.5747800586510264 0.32432432432432434 'm']\n",
      " [0.0 0.0 'f']\n",
      " [0.15542521994134909 0.2972972972972973 'f']\n",
      " [0.7800586510263929 0.4594594594594595 'm']]\n"
     ]
    }
   ],
   "source": [
    "# Chang Pandas DataFrame to NumPy ndarray\n",
    "n = tbl.values\n",
    "print(n)"
   ]
  }
 ],
 "metadata": {
  "kernelspec": {
   "display_name": "Python 3",
   "language": "python",
   "name": "python3"
  },
  "language_info": {
   "codemirror_mode": {
    "name": "ipython",
    "version": 3
   },
   "file_extension": ".py",
   "mimetype": "text/x-python",
   "name": "python",
   "nbconvert_exporter": "python",
   "pygments_lexer": "ipython3",
   "version": "3.8.10"
  }
 },
 "nbformat": 4,
 "nbformat_minor": 2
}
