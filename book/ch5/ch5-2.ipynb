{
 "cells": [
  {
   "cell_type": "code",
   "execution_count": 1,
   "metadata": {},
   "outputs": [
    {
     "name": "stdout",
     "output_type": "stream",
     "text": [
      "6234\n"
     ]
    }
   ],
   "source": [
    "# TensorFlow 임포트 --- (※1)\n",
    "import tensorflow as tf\n",
    "\n",
    "# 상수 정의 --- (※2)\n",
    "a = tf.constant(1234)\n",
    "b = tf.constant(5000)\n",
    "\n",
    "\n",
    "# 계산 정의 --- (※3)\n",
    "@tf.function\n",
    "def add_op(a, b):\n",
    "    return a + b\n",
    "\n",
    "\n",
    "# 세션 시작하기 --- (※4)\n",
    "res = add_op(a, b).numpy()        # 식 평가하기\n",
    "print(res)\n"
   ]
  },
  {
   "cell_type": "code",
   "execution_count": null,
   "metadata": {},
   "outputs": [],
   "source": [
    "# TensorFlow 읽어 들이기 --- (※1)\n",
    "import tensorflow as tf\n",
    "\n",
    "# 상수 정의하기 --- (※2)\n",
    "a = tf.constant(2)\n",
    "b = tf.constant(3)\n",
    "c = tf.constant(4)\n",
    "\n",
    "\n",
    "# 연산 정의하기 --- (※3)\n",
    "@tf.function\n",
    "def calc1_op():\n",
    "    return a + b * c\n",
    "\n",
    "@tf.function\n",
    "def calc2_op():\n",
    "    return (a + b) * c\n",
    "\n",
    "\n",
    "# 세션 시작하기 --- (※4)\n",
    "res1 = calc1_op().numpy() # 식 평가하기\n",
    "print(res1)\n",
    "res2 = calc2_op().numpy() # 식 평가하기\n",
    "print(res2)\n"
   ]
  }
 ],
 "metadata": {
  "kernelspec": {
   "display_name": "Python 3",
   "language": "python",
   "name": "python3"
  },
  "language_info": {
   "codemirror_mode": {
    "name": "ipython",
    "version": 3
   },
   "file_extension": ".py",
   "mimetype": "text/x-python",
   "name": "python",
   "nbconvert_exporter": "python",
   "pygments_lexer": "ipython3",
   "version": "3.8.10"
  }
 },
 "nbformat": 4,
 "nbformat_minor": 2
}
