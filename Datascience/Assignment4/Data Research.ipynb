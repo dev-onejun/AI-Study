{
 "cells": [
  {
   "cell_type": "code",
   "execution_count": 1,
   "metadata": {},
   "outputs": [],
   "source": [
    "import numpy as np\n",
    "import matplotlib.pyplot as plt\n",
    "from mpl_toolkits.mplot3d import Axes3D\n",
    "import celluloid\n",
    "from celluloid import Camera\n",
    "\n",
    "from source_code import preprocessData\n",
    "X,y = preprocessData()"
   ]
  },
  {
   "cell_type": "code",
   "execution_count": 3,
   "metadata": {},
   "outputs": [
    {
     "data": {
      "text/plain": [
       "(array([1.72673346, 1.5608525 , 1.4995928 ]), -0.933341817025662)"
      ]
     },
     "execution_count": 3,
     "metadata": {},
     "output_type": "execute_result"
    }
   ],
   "source": [
    "x1 = []\n",
    "x2 = []\n",
    "x3 = []\n",
    "const = []\n",
    "ys_list = []\n",
    "costs = []\n",
    "\n",
    "def gradient_descent(X, y):\n",
    "    epochs = 100000\n",
    "    min_gradient = 0.00001\n",
    "    learning_rate = 0.001\n",
    "\n",
    "    m = np.zeros(X.shape[1], dtype=np.float64)\n",
    "    c, n = 0.0, len(y)\n",
    "\n",
    "    for epoch in range(epochs):\n",
    "        m_partial = np.zeros(X.shape[1], dtype=np.float64)\n",
    "        c_partial = 0.0\n",
    "\n",
    "        for i in range(n):\n",
    "            y_pred = (m * X[i]).sum() + c\n",
    "            m_partial += (y_pred - y[i]) * X[i]\n",
    "            c_partial += (y_pred - y[i])\n",
    "            ys_list.append(y_pred)\n",
    "            costs.append(np.mean(np.sum((y-y_pred)**2,axis=0)))\n",
    "\n",
    "        m_partial *= 2/n\n",
    "        c_partial *= 2/n\n",
    "\n",
    "        delta_m = -learning_rate * m_partial\n",
    "        delta_c = -learning_rate * c_partial\n",
    "\n",
    "        if ((np.abs(delta_m) < min_gradient).all() and abs(delta_c) < min_gradient):\n",
    "            break\n",
    "\n",
    "        m = m + delta_m\n",
    "        c = c + delta_c\n",
    "        \n",
    "        x1.append(m[0])\n",
    "        x2.append(m[1])\n",
    "        x3.append(m[2])\n",
    "        const.append(c)\n",
    "\n",
    "    return m, c\n",
    "\n",
    "gradient_descent(X, y)"
   ]
  },
  {
   "cell_type": "code",
   "execution_count": 8,
   "metadata": {},
   "outputs": [
    {
     "ename": "ValueError",
     "evalue": "array split does not result in an equal division",
     "output_type": "error",
     "traceback": [
      "\u001b[0;31m---------------------------------------------------------------------------\u001b[0m",
      "\u001b[0;31mValueError\u001b[0m                                Traceback (most recent call last)",
      "Input \u001b[0;32mIn [8]\u001b[0m, in \u001b[0;36m<cell line: 1>\u001b[0;34m()\u001b[0m\n\u001b[0;32m----> 1\u001b[0m costs \u001b[38;5;241m=\u001b[39m \u001b[43mnp\u001b[49m\u001b[38;5;241;43m.\u001b[39;49m\u001b[43msplit\u001b[49m\u001b[43m(\u001b[49m\u001b[43mnp\u001b[49m\u001b[38;5;241;43m.\u001b[39;49m\u001b[43marray\u001b[49m\u001b[43m(\u001b[49m\u001b[43mcosts\u001b[49m\u001b[43m)\u001b[49m\u001b[43m,\u001b[49m\u001b[38;5;241;43m11\u001b[39;49m\u001b[43m)\u001b[49m \n\u001b[1;32m      2\u001b[0m x1 \u001b[38;5;241m=\u001b[39m np\u001b[38;5;241m.\u001b[39msplit(np\u001b[38;5;241m.\u001b[39marray(x1),\u001b[38;5;241m11\u001b[39m)\n\u001b[1;32m      3\u001b[0m x2 \u001b[38;5;241m=\u001b[39m np\u001b[38;5;241m.\u001b[39msplit(np\u001b[38;5;241m.\u001b[39marray(x2),\u001b[38;5;241m11\u001b[39m)\n",
      "File \u001b[0;32m<__array_function__ internals>:180\u001b[0m, in \u001b[0;36msplit\u001b[0;34m(*args, **kwargs)\u001b[0m\n",
      "File \u001b[0;32m/usr/local/lib/python3.8/dist-packages/numpy/lib/shape_base.py:872\u001b[0m, in \u001b[0;36msplit\u001b[0;34m(ary, indices_or_sections, axis)\u001b[0m\n\u001b[1;32m    870\u001b[0m     N \u001b[38;5;241m=\u001b[39m ary\u001b[38;5;241m.\u001b[39mshape[axis]\n\u001b[1;32m    871\u001b[0m     \u001b[38;5;28;01mif\u001b[39;00m N \u001b[38;5;241m%\u001b[39m sections:\n\u001b[0;32m--> 872\u001b[0m         \u001b[38;5;28;01mraise\u001b[39;00m \u001b[38;5;167;01mValueError\u001b[39;00m(\n\u001b[1;32m    873\u001b[0m             \u001b[38;5;124m'\u001b[39m\u001b[38;5;124marray split does not result in an equal division\u001b[39m\u001b[38;5;124m'\u001b[39m) \u001b[38;5;28;01mfrom\u001b[39;00m \u001b[38;5;28mNone\u001b[39m\n\u001b[1;32m    874\u001b[0m \u001b[38;5;28;01mreturn\u001b[39;00m array_split(ary, indices_or_sections, axis)\n",
      "\u001b[0;31mValueError\u001b[0m: array split does not result in an equal division"
     ]
    }
   ],
   "source": [
    "costs = np.split(np.array(costs),11) \n",
    "x1 = np.split(np.array(x1),11)\n",
    "x2 = np.split(np.array(x2),11)\n",
    "x3 = np.split(np.array(x3),11)"
   ]
  },
  {
   "cell_type": "code",
   "execution_count": 5,
   "metadata": {},
   "outputs": [
    {
     "ename": "IndexError",
     "evalue": "invalid index to scalar variable.",
     "output_type": "error",
     "traceback": [
      "\u001b[0;31m---------------------------------------------------------------------------\u001b[0m",
      "\u001b[0;31mIndexError\u001b[0m                                Traceback (most recent call last)",
      "Input \u001b[0;32mIn [5]\u001b[0m, in \u001b[0;36m<cell line: 21>\u001b[0;34m()\u001b[0m\n\u001b[1;32m     21\u001b[0m \u001b[38;5;28;01mfor\u001b[39;00m i \u001b[38;5;129;01min\u001b[39;00m points_:\n\u001b[1;32m     22\u001b[0m     \u001b[38;5;66;03m# Plot the three trajectories of gradient descent...\u001b[39;00m\n\u001b[1;32m     23\u001b[0m     \u001b[38;5;66;03m#... each starting from its respective starting point\u001b[39;00m\n\u001b[1;32m     24\u001b[0m     \u001b[38;5;66;03m#... and each with a unique linestyle:\u001b[39;00m\n\u001b[1;32m     25\u001b[0m     \u001b[38;5;28;01mfor\u001b[39;00m j \u001b[38;5;129;01min\u001b[39;00m \u001b[38;5;28mrange\u001b[39m(\u001b[38;5;241m3\u001b[39m): \n\u001b[0;32m---> 26\u001b[0m         ax\u001b[38;5;241m.\u001b[39mplot(\u001b[43mx1\u001b[49m\u001b[43m[\u001b[49m\u001b[43mj\u001b[49m\u001b[43m]\u001b[49m\u001b[43m[\u001b[49m\u001b[38;5;241;43m0\u001b[39;49m\u001b[43m:\u001b[49m\u001b[43mi\u001b[49m\u001b[43m]\u001b[49m,x2[j][\u001b[38;5;241m0\u001b[39m:i],costs[j][\u001b[38;5;241m0\u001b[39m:i],\n\u001b[1;32m     27\u001b[0m                 linestyle\u001b[38;5;241m=\u001b[39mline_style[j],linewidth\u001b[38;5;241m=\u001b[39m\u001b[38;5;241m2\u001b[39m,\n\u001b[1;32m     28\u001b[0m                 color\u001b[38;5;241m=\u001b[39m\u001b[38;5;124m\"\u001b[39m\u001b[38;5;124mblack\u001b[39m\u001b[38;5;124m\"\u001b[39m, label\u001b[38;5;241m=\u001b[39m\u001b[38;5;28mstr\u001b[39m(i))\n\u001b[1;32m     29\u001b[0m         ax\u001b[38;5;241m.\u001b[39mscatter(x1[j][i],x2[j][i],costs[j][i],\n\u001b[1;32m     30\u001b[0m                    marker\u001b[38;5;241m=\u001b[39m\u001b[38;5;124m'\u001b[39m\u001b[38;5;124mo\u001b[39m\u001b[38;5;124m'\u001b[39m, s\u001b[38;5;241m=\u001b[39m\u001b[38;5;241m15\u001b[39m\u001b[38;5;241m*\u001b[39m\u001b[38;5;241m*\u001b[39m\u001b[38;5;241m2\u001b[39m,\n\u001b[1;32m     31\u001b[0m                color\u001b[38;5;241m=\u001b[39m\u001b[38;5;124m\"\u001b[39m\u001b[38;5;124mblack\u001b[39m\u001b[38;5;124m\"\u001b[39m, alpha\u001b[38;5;241m=\u001b[39m\u001b[38;5;241m1.0\u001b[39m)\n\u001b[1;32m     32\u001b[0m     \u001b[38;5;66;03m# Surface plot (= loss landscape):\u001b[39;00m\n",
      "\u001b[0;31mIndexError\u001b[0m: invalid index to scalar variable."
     ]
    }
   ],
   "source": [
    "fig = plt.figure(figsize=(10,10)) # create figure\n",
    "ax = fig.add_subplot(111,projection='3d' ) \n",
    "line_style=[\"dashed\", \"dashdot\", \"dotted\"] #linestyles\n",
    "fontsize_=27 # set axis label fontsize\n",
    "labelsize_=17 # set tick label fontsize\n",
    "ax.view_init(elev=30, azim=-10)\n",
    "ax.set_xlabel(r'$x_1$', fontsize=fontsize_, labelpad=17)\n",
    "ax.set_ylabel(r'$x_2$', fontsize=fontsize_, labelpad=5)\n",
    "ax.set_zlabel(\"costs\", fontsize=fontsize_, labelpad=-35)\n",
    "ax.tick_params(axis='x', pad=12, which='major', labelsize=labelsize_)\n",
    "ax.tick_params(axis='y', pad=0, which='major', labelsize=labelsize_)\n",
    "ax.tick_params(axis='z', pad=8, which='major', labelsize=labelsize_)\n",
    "#ax.set_zlim(4.75,4.802) # set range for z-values in the plot\n",
    "\n",
    "# Define which epochs to plot:\n",
    "p1=list(np.arange(0,200,20))\n",
    "p2=list(np.arange(200,9000,100))\n",
    "points_=p1+p2\n",
    "\n",
    "camera=Camera(fig) # create Camera object\n",
    "for i in points_:\n",
    "        ax.plot(x1[0:i],x2[0:i],costs[0:i],\n",
    "                linestyle=line_style[j],linewidth=2,\n",
    "                color=\"black\", label=str(i))\n",
    "        ax.scatter(x1[j][i],x2[j][i],costs[j][i],\n",
    "                   marker='o', s=15**2,\n",
    "               color=\"black\", alpha=1.0)\n",
    "    # Surface plot (= loss landscape):\n",
    "    ax.plot_surface(M1, M2, Z_100, cmap='terrain', \n",
    "                             antialiased=True,cstride=1,rstride=1, alpha=0.75)\n",
    "    ax.legend([f'epochs: {i}'], loc=(0.25, 0.8),fontsize=17) # set position of legend\n",
    "    plt.tight_layout() \n",
    "    camera.snap() # take snapshot after each iteration\n",
    "    \n",
    "animation = camera.animate(interval = 5, # set delay between frames in milliseconds\n",
    "                          repeat = False,\n",
    "                          repeat_delay = 0)\n",
    "animation.save('gd_1.gif', writer = 'Pillow', dpi=100)  # save animation"
   ]
  },
  {
   "cell_type": "code",
   "execution_count": 17,
   "metadata": {},
   "outputs": [],
   "source": [
    "# Introduce lists where data points are being stored: \n",
    "w_list=x1   # list contains weights\n",
    "b_list=const   # list contains biases\n",
    "\n",
    "\n",
    "xs= np.array([    # set x-values for regression line plot               \n",
    "#            [-3],\n",
    "             [10]\n",
    "             ])"
   ]
  },
  {
   "cell_type": "code",
   "execution_count": null,
   "metadata": {},
   "outputs": [],
   "source": [
    "# Define which epochs/data points to plot\n",
    "a=np.arange(0,50,1).tolist()\n",
    "b=np.arange(50,100,5).tolist()\n",
    "c=np.arange(100,12000,200).tolist()\n",
    "p = a+b+c # points we want to plot\n",
    "\n",
    "# Turn lists into arrays\n",
    "w= np.array(w_list).flatten()\n",
    "b= np.array(b_list).flatten()\n",
    "\n",
    "ys = np.array(ys_list) \n",
    "p=np.array(p)\n",
    "\n",
    "# Create first animation: \n",
    "fig = plt.figure(figsize=(10,10)) # create figure\n",
    "labelsize_ = 14\n",
    "camera = Camera(fig)  # create camera\n",
    "for i in p:\n",
    "    ax1=fig.add_subplot(3, 2, 2)  \n",
    "    ax1.plot(w[0:i], color='blue', linestyle=\"dashed\", alpha=0.5)\n",
    "    ax1.set_title(\"w\", fontsize=17)\n",
    "    ax1.tick_params(axis='both', which='major', labelsize=labelsize_)\n",
    "\n",
    "    ax2=fig.add_subplot(3, 2, 4, sharex=ax1) # right plots share x-axis. \n",
    "    ax2.plot(b[0:i], color='red', linestyle=\"dashed\", alpha=0.5)\n",
    "    ax2.set_title(\"b\", fontsize=17)\n",
    "    ax2.tick_params(axis='both', which='major', labelsize=labelsize_)\n",
    "\n",
    "    ax0=fig.add_subplot(1, 2, 1) # plot fit\n",
    "    leg=ax0.plot(xs.T.flatten(),ys[i].flatten(),\n",
    "                 color='r', label=str(i))  # set legend; flatten arrays to get plots!\n",
    "#    ax0.scatter(, y_train, color='b',marker='x', s=44)\n",
    "    ax0.legend(leg,[f'epochs: {i}'], loc='upper right', fontsize=15)\n",
    "    ax0.set_title(\"Linear fit\", fontsize=25)\n",
    "    ax0.tick_params(axis='both', which='major', labelsize=labelsize_)\n",
    "    ax0.set_xlabel(\"x\", fontsize=25, labelpad=10)\n",
    "    ax0.set_ylabel(\"y\", fontsize=25, labelpad=10)\n",
    "    ax0.tick_params(axis='both', which='major', labelsize=labelsize_) \n",
    "    ax0.set_ylim([-20, 10])\n",
    "\n",
    "    plt.tight_layout()\n",
    "    camera.snap() # take snapshot after each frame/iteration\n",
    "    \n",
    "animation = camera.animate(interval = 5,\n",
    "                          repeat = False, repeat_delay = 500) # create animation \n",
    "animation.save('SimpleLinReg_1.gif', writer = 'Pillow') # save animation "
   ]
  }
 ],
 "metadata": {
  "kernelspec": {
   "display_name": "Python 3",
   "language": "python",
   "name": "python3"
  },
  "language_info": {
   "codemirror_mode": {
    "name": "ipython",
    "version": 3
   },
   "file_extension": ".py",
   "mimetype": "text/x-python",
   "name": "python",
   "nbconvert_exporter": "python",
   "pygments_lexer": "ipython3",
   "version": "3.8.10"
  }
 },
 "nbformat": 4,
 "nbformat_minor": 2
}
