{
 "cells": [
  {
   "cell_type": "code",
   "execution_count": 1,
   "metadata": {},
   "outputs": [
    {
     "name": "stdout",
     "output_type": "stream",
     "text": [
      "[[62.99816057 33.82393018]\n",
      " [33.82393018 60.56947533]]\n",
      "[[1.         0.54756191]\n",
      " [0.54756191 1.        ]]\n"
     ]
    }
   ],
   "source": [
    "import pandas as pd\n",
    "import numpy as np\n",
    "\n",
    "xl_file = 'score.xlsx'\n",
    "df = pd.read_excel(xl_file)\n",
    "\n",
    "midterm = df['midterm']\n",
    "final = df['final']\n",
    "\n",
    "cov = np.cov(midterm, final)\n",
    "print(cov)\n",
    "\n",
    "cor = np.corrcoef(midterm, final)\n",
    "print(cor)"
   ]
  }
 ],
 "metadata": {
  "kernelspec": {
   "display_name": "Python 3",
   "language": "python",
   "name": "python3"
  },
  "language_info": {
   "codemirror_mode": {
    "name": "ipython",
    "version": 3
   },
   "file_extension": ".py",
   "mimetype": "text/x-python",
   "name": "python",
   "nbconvert_exporter": "python",
   "pygments_lexer": "ipython3",
   "version": "3.8.10"
  }
 },
 "nbformat": 4,
 "nbformat_minor": 2
}
