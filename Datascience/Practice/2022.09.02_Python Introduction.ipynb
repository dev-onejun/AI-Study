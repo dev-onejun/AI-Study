{
 "cells": [
  {
   "cell_type": "code",
   "execution_count": 2,
   "metadata": {},
   "outputs": [
    {
     "name": "stdout",
     "output_type": "stream",
     "text": [
      "1\n",
      "1\n",
      "2\n",
      "3\n",
      "5\n",
      "8\n",
      "13\n",
      "21\n",
      "34\n",
      "55\n",
      "89\n"
     ]
    }
   ],
   "source": [
    "a,b = 0, 1\n",
    "while b < 100:\n",
    "    print(b)\n",
    "    a,b = b, a+b"
   ]
  },
  {
   "cell_type": "code",
   "execution_count": 5,
   "metadata": {},
   "outputs": [
    {
     "name": "stdout",
     "output_type": "stream",
     "text": [
      "2 1\n"
     ]
    }
   ],
   "source": [
    "a,b = 1,2\n",
    "a,b = b,a\n",
    "print(a, b)"
   ]
  },
  {
   "cell_type": "code",
   "execution_count": 7,
   "metadata": {},
   "outputs": [
    {
     "name": "stdout",
     "output_type": "stream",
     "text": [
      "Please enter number: 10\n",
      "10 It is an even.\n",
      "Please enter number: 1\n",
      "1 It is an odd.\n",
      "Please enter number: 0\n",
      "halt the program.\n"
     ]
    }
   ],
   "source": [
    "x = 1\n",
    "while x > 0:\n",
    "    x = int(input(\"Please enter number: \"))\n",
    "    if x <= 0:\n",
    "        print('halt the program.')\n",
    "    elif x % 2 == 1:\n",
    "        print(x, 'It is an odd.')\n",
    "    else:\n",
    "        print(x, 'It is an even.')"
   ]
  },
  {
   "cell_type": "code",
   "execution_count": 8,
   "metadata": {},
   "outputs": [
    {
     "name": "stdout",
     "output_type": "stream",
     "text": [
      "0 0\n",
      "1 1\n",
      "2 4\n",
      "3 9\n",
      "4 16\n",
      "5 25\n",
      "6 36\n",
      "7 49\n",
      "8 64\n",
      "9 81\n"
     ]
    }
   ],
   "source": [
    "for i in range(0, 10):\n",
    "    print(i, i ** 2)\n",
    "\n",
    "\"\"\"\n",
    "The examples of `range()`:\n",
    "    range(10): from 0 to 9\n",
    "    range(1, 11, 2): from 1 to 10 with jumping 2\n",
    "\"\"\""
   ]
  },
  {
   "cell_type": "code",
   "execution_count": 14,
   "metadata": {},
   "outputs": [],
   "source": [
    "def compute_two(N):\n",
    "    sum, multiply = 0, 1\n",
    "    \n",
    "    for k in range(1, N):\n",
    "        sum += k\n",
    "        multiply *= k\n",
    "        \n",
    "    return sum, multiply"
   ]
  },
  {
   "cell_type": "code",
   "execution_count": 16,
   "metadata": {},
   "outputs": [
    {
     "data": {
      "text/plain": [
       "(55, 3628800)"
      ]
     },
     "execution_count": 16,
     "metadata": {},
     "output_type": "execute_result"
    }
   ],
   "source": [
    "compute_two(11)"
   ]
  },
  {
   "cell_type": "code",
   "execution_count": 20,
   "metadata": {},
   "outputs": [
    {
     "name": "stdout",
     "output_type": "stream",
     "text": [
      "hello world help\n",
      "o w\n"
     ]
    },
    {
     "ename": "TypeError",
     "evalue": "'str' object does not support item assignment",
     "output_type": "error",
     "traceback": [
      "\u001b[0;31m---------------------------------------------------------------------------\u001b[0m",
      "\u001b[0;31mTypeError\u001b[0m                                 Traceback (most recent call last)",
      "Input \u001b[0;32mIn [20]\u001b[0m, in \u001b[0;36m<cell line: 5>\u001b[0;34m()\u001b[0m\n\u001b[1;32m      3\u001b[0m \u001b[38;5;28mprint\u001b[39m(word)\n\u001b[1;32m      4\u001b[0m \u001b[38;5;28mprint\u001b[39m(s[\u001b[38;5;241m4\u001b[39m:\u001b[38;5;241m7\u001b[39m])\n\u001b[0;32m----> 5\u001b[0m s[\u001b[38;5;241m2\u001b[39m]\u001b[38;5;241m=\u001b[39m\u001b[38;5;124m'\u001b[39m\u001b[38;5;124ma\u001b[39m\u001b[38;5;124m'\u001b[39m\n",
      "\u001b[0;31mTypeError\u001b[0m: 'str' object does not support item assignment"
     ]
    }
   ],
   "source": [
    "s = 'hello world'\n",
    "word = s + ' ' + 'help'\n",
    "print(word)\n",
    "print(s[4:7])\n",
    "s[2]='a'"
   ]
  },
  {
   "cell_type": "code",
   "execution_count": 6,
   "metadata": {},
   "outputs": [
    {
     "name": "stdout",
     "output_type": "stream",
     "text": [
      "4\n",
      "['mouse', [8, 4, 6]]\n"
     ]
    }
   ],
   "source": [
    "a = [[8,4,6]]\n",
    "print(a[0][1])\n",
    "\n",
    "a = [\"mouse\", [8,4,6], 5]\n",
    "\n",
    "print(a[0:2])\n",
    "\n",
    "# Python list seems an array, but uses linked-list internally.\n",
    "    ## list can contain various types on one variable."
   ]
  },
  {
   "cell_type": "code",
   "execution_count": 26,
   "metadata": {},
   "outputs": [
    {
     "name": "stdout",
     "output_type": "stream",
     "text": [
      "[1, 2, 4, 8, 16, 32, 64, 128, 256, 512]\n"
     ]
    }
   ],
   "source": [
    "pow2 = []\n",
    "for x in range(10):\n",
    "    pow2.append(2 ** x)\n",
    "\n",
    "print(pow2)"
   ]
  },
  {
   "cell_type": "code",
   "execution_count": 31,
   "metadata": {},
   "outputs": [
    {
     "name": "stdout",
     "output_type": "stream",
     "text": [
      "[1, 2, 4, 8, 16, 32, 64, 128, 256, 512]\n",
      "[64, 128, 256, 512]\n",
      "['Python Language', 'Python Programming', 'C Language', 'C Programming']\n"
     ]
    }
   ],
   "source": [
    "# Pythonic Coding - List Comprehension\n",
    "pow2 = [2 ** x for x in range(0, 10)]\n",
    "print(pow2)\n",
    "\n",
    "\"\"\"\n",
    "You can use if statement and nested for statement\n",
    "\"\"\"\n",
    "pow2 = [2 ** x for x in range(10) if x > 5]\n",
    "print(pow2)\n",
    "\n",
    "pow2 = [x+y for x in ['Python ', 'C '] for y in ['Language', 'Programming']]\n",
    "print(pow2)"
   ]
  },
  {
   "cell_type": "code",
   "execution_count": 32,
   "metadata": {},
   "outputs": [
    {
     "name": "stdout",
     "output_type": "stream",
     "text": [
      "[1, 2]\n"
     ]
    },
    {
     "ename": "TypeError",
     "evalue": "'tuple' object does not support item assignment",
     "output_type": "error",
     "traceback": [
      "\u001b[0;31m---------------------------------------------------------------------------\u001b[0m",
      "\u001b[0;31mTypeError\u001b[0m                                 Traceback (most recent call last)",
      "Input \u001b[0;32mIn [32]\u001b[0m, in \u001b[0;36m<cell line: 3>\u001b[0;34m()\u001b[0m\n\u001b[1;32m      1\u001b[0m t \u001b[38;5;241m=\u001b[39m (\u001b[38;5;241m1\u001b[39m, \u001b[38;5;241m2\u001b[39m, [\u001b[38;5;241m1\u001b[39m,\u001b[38;5;241m2\u001b[39m])\n\u001b[1;32m      2\u001b[0m \u001b[38;5;28mprint\u001b[39m(t[\u001b[38;5;241m2\u001b[39m])\n\u001b[0;32m----> 3\u001b[0m t[\u001b[38;5;241m1\u001b[39m] \u001b[38;5;241m=\u001b[39m \u001b[38;5;241m3\u001b[39m\n",
      "\u001b[0;31mTypeError\u001b[0m: 'tuple' object does not support item assignment"
     ]
    }
   ],
   "source": [
    "t = (1, 2, [1,2])\n",
    "print(t[2])\n",
    "t[1] = 3"
   ]
  },
  {
   "cell_type": "code",
   "execution_count": 47,
   "metadata": {},
   "outputs": [
    {
     "name": "stdout",
     "output_type": "stream",
     "text": [
      "{'a': 100, 1: 100}\n",
      "{'a': 100, 1: 300}\n",
      "a 1 \n",
      "100 300 \n",
      "('a', 100) (1, 300) \n",
      "True\n",
      "b is not in d\n"
     ]
    }
   ],
   "source": [
    "d = {}\n",
    "d['a'] = 100\n",
    "d[1] = 100\n",
    "print(d)\n",
    "\n",
    "d[1] = 300\n",
    "print(d)\n",
    "\n",
    "\"\"\"\n",
    "del d[1]\n",
    "print(d)\n",
    "\"\"\"\n",
    "\n",
    "for key in d:\n",
    "    print(key, end=\" \")\n",
    "print()\n",
    "\n",
    "for value in d.values():\n",
    "    print(value, end=\" \")\n",
    "print()\n",
    "\n",
    "for item in d.items():\n",
    "    print(item, end=' ')\n",
    "print()\n",
    "\n",
    "print('a' in d)\n",
    "\n",
    "if 'b' in d:\n",
    "    print('b is in d')\n",
    "else:\n",
    "    print('b is not in d')"
   ]
  }
 ],
 "metadata": {
  "kernelspec": {
   "display_name": "Python 3",
   "language": "python",
   "name": "python3"
  },
  "language_info": {
   "codemirror_mode": {
    "name": "ipython",
    "version": 3
   },
   "file_extension": ".py",
   "mimetype": "text/x-python",
   "name": "python",
   "nbconvert_exporter": "python",
   "pygments_lexer": "ipython3",
   "version": "3.8.10"
  }
 },
 "nbformat": 4,
 "nbformat_minor": 2
}
