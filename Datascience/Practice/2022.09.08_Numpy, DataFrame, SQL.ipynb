{
 "cells": [
  {
   "cell_type": "code",
   "execution_count": 8,
   "metadata": {},
   "outputs": [
    {
     "name": "stdout",
     "output_type": "stream",
     "text": [
      "[[ 0  1  2  3  4]\n",
      " [ 5  6  7  8  9]\n",
      " [10 11 12 13 14]]\n",
      "(3, 5)\n",
      "2\n",
      "int64\n",
      "8\n",
      "15\n",
      "<class 'numpy.ndarray'>\n"
     ]
    }
   ],
   "source": [
    "import numpy as np\n",
    "\n",
    "a = np.arange(15).reshape(3, 5)\n",
    "\n",
    "print(a)\n",
    "print(a.shape)\n",
    "print(a.ndim)\n",
    "print(a.dtype.name)\n",
    "print(a.itemsize)\n",
    "print(a.size)\n",
    "print(type(a))"
   ]
  },
  {
   "cell_type": "code",
   "execution_count": 10,
   "metadata": {},
   "outputs": [
    {
     "name": "stdout",
     "output_type": "stream",
     "text": [
      "[[ 0  1  2]\n",
      " [ 3  4  5]\n",
      " [ 6  7  8]\n",
      " [ 9 10 11]\n",
      " [12 13 14]]\n"
     ]
    }
   ],
   "source": [
    "a = a.reshape(5,3)\n",
    "print(a)"
   ]
  },
  {
   "cell_type": "code",
   "execution_count": 18,
   "metadata": {},
   "outputs": [
    {
     "name": "stdout",
     "output_type": "stream",
     "text": [
      "[[1 2 3]\n",
      " [4 5 6]]\n",
      "[[0. 0. 0. 0.]\n",
      " [0. 0. 0. 0.]\n",
      " [0. 0. 0. 0.]]\n",
      "[[[1 1 1 1]\n",
      "  [1 1 1 1]\n",
      "  [1 1 1 1]]\n",
      "\n",
      " [[1 1 1 1]\n",
      "  [1 1 1 1]\n",
      "  [1 1 1 1]]]\n",
      "[[4.9e-324 9.9e-324 1.5e-323]\n",
      " [2.0e-323 2.5e-323 3.0e-323]]\n",
      "[10 20 30 40 50 60 70 80 90]\n"
     ]
    }
   ],
   "source": [
    "a = np.array([[1,2,3],[4,5,6]])\n",
    "print(a)\n",
    "b = np.zeros((3,4))\n",
    "print(b)\n",
    "c = np.ones((2,3,4), dtype=np.int64)\n",
    "print(c)\n",
    "d = np.empty((2,3))\n",
    "print(d)\n",
    "e = np.arange(10, 100, 10)\n",
    "print(e)"
   ]
  },
  {
   "cell_type": "code",
   "execution_count": 20,
   "metadata": {},
   "outputs": [
    {
     "name": "stdout",
     "output_type": "stream",
     "text": [
      "[20 29 38 47]\n",
      "[0 1 4 9]\n",
      "[ True  True False False]\n"
     ]
    }
   ],
   "source": [
    "A = np.array( [20,30,40,50] )\n",
    "B = np.arange(4)\n",
    "# B = [0,1,2,3]\n",
    "\n",
    "C = A-B\n",
    "print(C)\n",
    "\n",
    "D = B**2\n",
    "print(D)\n",
    "\n",
    "print(A<35)"
   ]
  },
  {
   "cell_type": "code",
   "execution_count": 23,
   "metadata": {},
   "outputs": [
    {
     "name": "stdout",
     "output_type": "stream",
     "text": [
      "elasped time = 22.311246395111084\n",
      "elasped time = 0.9195413589477539\n"
     ]
    }
   ],
   "source": [
    "\"\"\" The Comparison between List and Numpy \"\"\"\n",
    "import time\n",
    "import numpy as np\n",
    "\n",
    "_LARGE_NUMBER = 100000000\n",
    "\n",
    "a = range(_LARGE_NUMBER)\n",
    "b = range(_LARGE_NUMBER)\n",
    "c = []\n",
    "\n",
    "start = time.time()\n",
    "for i in range(_LARGE_NUMBER):\n",
    "    c.append(a[i]*b[i])\n",
    "end = time.time()\n",
    "print('elasped time =', end-start)\n",
    "\n",
    "a = np.arange(_LARGE_NUMBER)\n",
    "b = np.arange(_LARGE_NUMBER)\n",
    "\n",
    "start = time.time()\n",
    "c = a*b\n",
    "end = time.time()\n",
    "print('elasped time =', end-start)"
   ]
  },
  {
   "cell_type": "code",
   "execution_count": 24,
   "metadata": {},
   "outputs": [
    {
     "name": "stdout",
     "output_type": "stream",
     "text": [
      "elasped time = 2.2412140369415283\n",
      "elasped time = 0.0939939022064209\n"
     ]
    }
   ],
   "source": [
    "\"\"\" The Comparison between List and Numpy \"\"\"\n",
    "import time\n",
    "import numpy as np\n",
    "\n",
    "_LARGE_NUMBER = 10000000\n",
    "\n",
    "a = range(_LARGE_NUMBER)\n",
    "b = range(_LARGE_NUMBER)\n",
    "c = []\n",
    "\n",
    "start = time.time()\n",
    "for i in range(_LARGE_NUMBER):\n",
    "    c.append(a[i]*b[i])\n",
    "end = time.time()\n",
    "print('elasped time =', end-start)\n",
    "\n",
    "a = np.arange(_LARGE_NUMBER)\n",
    "b = np.arange(_LARGE_NUMBER)\n",
    "\n",
    "start = time.time()\n",
    "c = a*b\n",
    "end = time.time()\n",
    "print('elasped time =', end-start)"
   ]
  },
  {
   "cell_type": "code",
   "execution_count": 26,
   "metadata": {},
   "outputs": [
    {
     "name": "stdout",
     "output_type": "stream",
     "text": [
      "[[2 0]\n",
      " [0 4]]\n",
      "[[5 4]\n",
      " [3 4]]\n",
      "4\n"
     ]
    }
   ],
   "source": [
    "A = np.array( [[1,1],\n",
    "             [0,1]] )\n",
    "B = np.array( [[2,0],\n",
    "              [3,4]] )\n",
    "\n",
    "C = A*B    # elementwise product\n",
    "D = A@B    # matrix product\n",
    "print(C)\n",
    "print(D)\n",
    "\n",
    "X = [1,2,3,4]\n",
    "Y = [1,0,1,0]\n",
    "\n",
    "F = np.inner(X,Y)    # inner product\n",
    "print(F)"
   ]
  },
  {
   "cell_type": "code",
   "execution_count": null,
   "metadata": {},
   "outputs": [],
   "source": [
    "import pandas as pd\n",
    "\n",
    "xl_file = 'abc.xlsx'\n",
    "df = pd.read_excel(xl_file)\n",
    "print(df)"
   ]
  }
 ],
 "metadata": {
  "kernelspec": {
   "display_name": "Python 3",
   "language": "python",
   "name": "python3"
  },
  "language_info": {
   "codemirror_mode": {
    "name": "ipython",
    "version": 3
   },
   "file_extension": ".py",
   "mimetype": "text/x-python",
   "name": "python",
   "nbconvert_exporter": "python",
   "pygments_lexer": "ipython3",
   "version": "3.8.10"
  }
 },
 "nbformat": 4,
 "nbformat_minor": 2
}
