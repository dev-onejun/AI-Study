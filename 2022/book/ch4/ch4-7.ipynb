{
 "cells": [
  {
   "cell_type": "code",
   "execution_count": 2,
   "metadata": {},
   "outputs": [
    {
     "name": "stdout",
     "output_type": "stream",
     "text": [
      "각각의 정답률 = [0.9666666666666667, 0.8666666666666667, 0.9666666666666667, 1.0, 1.0]\n",
      "평균 정답률 = 0.9600000000000002\n"
     ]
    }
   ],
   "source": [
    "\"\"\" cross-iris.py \"\"\"\n",
    "from sklearn import svm, metrics\n",
    "import random, re\n",
    "\n",
    "# 붓꽃의 CSV 파일 읽어 들이기 --- (※1)\n",
    "lines = open('iris.csv', 'r', encoding='utf-8').read().split(\"\\n\")\n",
    "f_tonum = lambda n : float(n) if re.match(r'^[0-9\\.]+$', n) else n\n",
    "f_cols  = lambda li: list(map(f_tonum,li.strip().split(',')))\n",
    "csv = list(map(f_cols, lines))\n",
    "del csv[0] # 헤더 제거하기\n",
    "random.shuffle(csv) # 데이터 섞기\n",
    "\n",
    "# 데이터를 K개로 분할하기 --- (※2)\n",
    "K = 5 \n",
    "csvk = [ [] for i in range(K) ]\n",
    "for i in range(len(csv)):\n",
    "    csvk[i % K].append(csv[i])\n",
    "\n",
    "# 리스트를 훈련 전용 데이터와 테스트 전용 데이터로 분할하는 함수\n",
    "def split_data_label(rows):\n",
    "    data = []; label = []\n",
    "    for row in rows:\n",
    "        data.append(row[0:4])\n",
    "        label.append(row[4])\n",
    "    return (data, label)\n",
    "\n",
    "# 정답률 구하기 --- (※3)\n",
    "def calc_score(test, train):\n",
    "    test_f, test_l = split_data_label(test)\n",
    "    train_f, train_l = split_data_label(train)\n",
    "    # 학습시키고 정답률 구하기\n",
    "    clf = svm.SVC()\n",
    "    clf.fit(train_f, train_l)\n",
    "    pre = clf.predict(test_f)\n",
    "    return metrics.accuracy_score(test_l, pre)\n",
    "\n",
    "# K개로 분할해서 정답률 구하기 --- (※4)\n",
    "score_list = []\n",
    "for testc in csvk:\n",
    "    # testc 이외의 데이터를 훈련 전용 데이터로 사용하기\n",
    "    trainc = []\n",
    "    for i in csvk:\n",
    "        if i != testc: trainc += i\n",
    "    sc = calc_score(testc, trainc)\n",
    "    score_list.append(sc)\n",
    "\n",
    "print(\"각각의 정답률 =\", score_list)\n",
    "print(\"평균 정답률 =\", sum(score_list) / len(score_list))"
   ]
  },
  {
   "cell_type": "code",
   "execution_count": 3,
   "metadata": {},
   "outputs": [
    {
     "name": "stdout",
     "output_type": "stream",
     "text": [
      "각각의 정답률 = [0.96666667 0.96666667 0.96666667 0.93333333 1.        ]\n",
      "평균 정답률 = 0.9666666666666666\n"
     ]
    }
   ],
   "source": [
    "\"\"\" cross-iris2.py \"\"\"\n",
    "import pandas as pd\n",
    "from sklearn import svm, metrics, model_selection\n",
    "import random, re\n",
    "\n",
    "# 붓꽃의 CSV 데이터 읽어 들이기 --- (※1)\n",
    "csv = pd.read_csv('iris.csv')\n",
    "\n",
    "# 리스트를 훈련 전용 데이터와 테스트 전용 데이터로 분할하기 --- (※2)\n",
    "data = csv[[\"SepalLength\",\"SepalWidth\",\"PetalLength\",\"PetalWidth\"]]\n",
    "label = csv[\"Name\"]\n",
    "\n",
    "# 크로스 밸리데이션하기 --- (※3)\n",
    "clf = svm.SVC()\n",
    "scores = model_selection.cross_val_score(clf, data, label, cv=5)\n",
    "print(\"각각의 정답률 =\", scores)\n",
    "print(\"평균 정답률 =\", scores.mean())"
   ]
  },
  {
   "cell_type": "code",
   "execution_count": 26,
   "metadata": {
    "scrolled": false
   },
   "outputs": [
    {
     "name": "stdout",
     "output_type": "stream",
     "text": [
      "학습 데이터의 수 = 1000\n",
      "학습기 = SVC(C=1, kernel='linear')\n",
      "정답률 = 0.866\n"
     ]
    },
    {
     "name": "stderr",
     "output_type": "stream",
     "text": [
      "/usr/local/lib/python3.8/dist-packages/sklearn/base.py:493: FutureWarning: The feature names should match those that were passed during fit. Starting version 1.2, an error will be raised.\n",
      "Feature names unseen at fit time:\n",
      "- 0.451\n",
      "- 0.452\n",
      "- 0.453\n",
      "- 0.454\n",
      "- 0.455\n",
      "- ...\n",
      "Feature names seen at fit time, yet now missing:\n",
      "- 1\n",
      "- 1.1\n",
      "- 107\n",
      "- 108\n",
      "- 11\n",
      "- ...\n",
      "\n",
      "  warnings.warn(message, FutureWarning)\n"
     ]
    }
   ],
   "source": [
    "\"\"\" grid-mnist.py \"\"\"\n",
    "import pandas as pd\n",
    "from sklearn import svm, metrics\n",
    "from sklearn.model_selection import GridSearchCV\n",
    "\n",
    "# MNIST 학습 데이터 읽어 들이기 --- (※1)\n",
    "train_csv = pd.read_csv(\"./mnist/train.csv\")\n",
    "test_csv  = pd.read_csv(\"./mnist/t10k.csv\")\n",
    "\n",
    "# 필요한 열 추출하기 --- (※2)\n",
    "\"\"\"\n",
    "*csv.loc[]를 사용하면 KeyError가 나타남. 중간에 빈 row가 있어서 그런 것으로 추정\n",
    "*csv.iloc[]를 사용해 문제를 해결했으나, scikit-learn version 1.2 이상에서 사용 불가능하다고 함\n",
    "cf. https://pandas.pydata.org/pandas-docs/version/0.15.0/indexing.html\n",
    "\"\"\"\n",
    "train_label = train_csv.iloc[:,0]\n",
    "train_data  = train_csv.iloc[:,1:577]\n",
    "test_label  = test_csv.iloc[:,0]\n",
    "test_data   = test_csv.iloc[:,1:577]\n",
    "print(\"학습 데이터의 수 =\", len(train_label))\n",
    "\n",
    "# 그리드 서치 매개변수 후보 설정 --- (※3)\n",
    "params = [\n",
    "    {\"C\": [1,10,100,1000], \"kernel\":[\"linear\"]},\n",
    "    {\"C\": [1,10,100,1000], \"kernel\":[\"rbf\"], \"gamma\":[0.001, 0.0001]}\n",
    "]\n",
    "\n",
    "# 그리드 서치 수행 --- (※4)\n",
    "# n-jobs를 -1로 하면 코어 수에 맞게, 자동으로 병렬 계산할 프로세스 수를 정해줌\n",
    "clf = GridSearchCV( svm.SVC(), params, n_jobs=-1 )\n",
    "clf.fit(train_data, train_label)\n",
    "print(\"학습기 =\", clf.best_estimator_)\n",
    "\n",
    "# 테스트 데이터 확인하기 --- (※5)\n",
    "pre = clf.predict(test_data)\n",
    "ac_score = metrics.accuracy_score(pre, test_label)\n",
    "print(\"정답률 =\",ac_score)"
   ]
  },
  {
   "cell_type": "code",
   "execution_count": null,
   "metadata": {},
   "outputs": [],
   "source": []
  }
 ],
 "metadata": {
  "kernelspec": {
   "display_name": "Python 3",
   "language": "python",
   "name": "python3"
  },
  "language_info": {
   "codemirror_mode": {
    "name": "ipython",
    "version": 3
   },
   "file_extension": ".py",
   "mimetype": "text/x-python",
   "name": "python",
   "nbconvert_exporter": "python",
   "pygments_lexer": "ipython3",
   "version": "3.8.10"
  }
 },
 "nbformat": 4,
 "nbformat_minor": 2
}
